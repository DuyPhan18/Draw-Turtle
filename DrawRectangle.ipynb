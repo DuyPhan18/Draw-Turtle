{
 "cells": [
  {
   "cell_type": "code",
   "execution_count": null,
   "id": "1c2f2fe7",
   "metadata": {},
   "outputs": [],
   "source": [
    "import turtle\n",
    "\n",
    "t = turtle.Turtle();\n",
    "\n",
    "turn = 90;\n",
    "m = 150;\n",
    "n = 70;\n",
    "\n",
    "t.fd(m);\n",
    "t.rt(turn);\n",
    "t.fd(n);\n",
    "t.rt(turn);\n",
    "t.fd(m);\n",
    "t.rt(turn);\n",
    "t.fd(n);\n",
    "\n",
    "turtle.done()"
   ]
  },
  {
   "cell_type": "code",
   "execution_count": null,
   "id": "58be56bc",
   "metadata": {},
   "outputs": [],
   "source": []
  },
  {
   "cell_type": "code",
   "execution_count": null,
   "id": "75693cd8",
   "metadata": {},
   "outputs": [],
   "source": []
  }
 ],
 "metadata": {
  "kernelspec": {
   "display_name": "Python 3 (ipykernel)",
   "language": "python",
   "name": "python3"
  },
  "language_info": {
   "codemirror_mode": {
    "name": "ipython",
    "version": 3
   },
   "file_extension": ".py",
   "mimetype": "text/x-python",
   "name": "python",
   "nbconvert_exporter": "python",
   "pygments_lexer": "ipython3",
   "version": "3.10.9"
  }
 },
 "nbformat": 4,
 "nbformat_minor": 5
}
